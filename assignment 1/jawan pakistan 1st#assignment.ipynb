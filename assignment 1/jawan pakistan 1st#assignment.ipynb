{
 "cells": [
  {
   "cell_type": "code",
   "execution_count": 1,
   "id": "9ebad482",
   "metadata": {},
   "outputs": [
    {
     "name": "stdout",
     "output_type": "stream",
     "text": [
      "Twinke, twinkle, little star,\n",
      "\tHow I wonder what you are!\n",
      "\t\tUp above the world so high,\n",
      "\t\tLike a diamond in the sky.\n",
      "Twinkle, twinkle, little star,\n",
      "\tHow I wonder what you are!\n"
     ]
    }
   ],
   "source": [
    "print('Twinke, twinkle, little star,\\n\\tHow I wonder what you are!\\n\\t\\tUp above the world so high,\\n\\t\\tLike a diamond in the sky.\\nTwinkle, twinkle, little star,\\n\\tHow I wonder what you are!')"
   ]
  },
  {
   "cell_type": "code",
   "execution_count": 2,
   "id": "201802eb",
   "metadata": {},
   "outputs": [
    {
     "name": "stdout",
     "output_type": "stream",
     "text": [
      "python version: 3.9.7 (default, Sep 16 2021, 16:59:28) [MSC v.1916 64 bit (AMD64)]\n"
     ]
    }
   ],
   "source": [
    "import sys\n",
    "print(\"python version:\",sys.version)"
   ]
  },
  {
   "cell_type": "code",
   "execution_count": 3,
   "id": "31c1df97",
   "metadata": {},
   "outputs": [
    {
     "name": "stdout",
     "output_type": "stream",
     "text": [
      "current date & time: 2021-12-31 11:43:24.228507\n"
     ]
    }
   ],
   "source": [
    "import datetime\n",
    "print(\"current date & time:\",datetime.datetime.now())"
   ]
  },
  {
   "cell_type": "code",
   "execution_count": 4,
   "id": "27752a5d",
   "metadata": {},
   "outputs": [
    {
     "name": "stdout",
     "output_type": "stream",
     "text": [
      "Enter radius of circle: 20\n",
      "Area of the circle of radius  20.0  is  1256.64\n"
     ]
    }
   ],
   "source": [
    "from math import pi\n",
    "\n",
    "r=float(input(\"Enter radius of circle: \"))\n",
    "\n",
    "area= pi * (r**2)\n",
    "\n",
    "print(\"Area of the circle of radius \",r,\" is \",round(area,2))"
   ]
  },
  {
   "cell_type": "code",
   "execution_count": 5,
   "id": "7aa021cb",
   "metadata": {},
   "outputs": [
    {
     "name": "stdout",
     "output_type": "stream",
     "text": [
      "first name: shahbaz\n",
      "last name: akhter\n",
      "full name: shahbaz akhter\n",
      "reverse name: akhter shahbaz\n"
     ]
    }
   ],
   "source": [
    "x = \"shahbaz\"\n",
    "y = \"akhter\"\n",
    "print(\"first name:\",x)\n",
    "print(\"last name:\",y)\n",
    "print(\"full name:\",x+' '+y)\n",
    "print(\"reverse name:\",y+' '+x)"
   ]
  },
  {
   "cell_type": "code",
   "execution_count": 6,
   "id": "07efd50f",
   "metadata": {},
   "outputs": [
    {
     "name": "stdout",
     "output_type": "stream",
     "text": [
      "Enter first number: 10\n",
      "Enter second number: 35\n",
      "sum of the numbers is : 45\n"
     ]
    }
   ],
   "source": [
    "value1=int(input(\"Enter first number: \"))\n",
    "value2=int(input(\"Enter second number: \"))\n",
    "addition=value1+value2\n",
    "print(\"sum of the numbers is :\",addition)\n"
   ]
  }
 ],
 "metadata": {
  "kernelspec": {
   "display_name": "Python 3 (ipykernel)",
   "language": "python",
   "name": "python3"
  },
  "language_info": {
   "codemirror_mode": {
    "name": "ipython",
    "version": 3
   },
   "file_extension": ".py",
   "mimetype": "text/x-python",
   "name": "python",
   "nbconvert_exporter": "python",
   "pygments_lexer": "ipython3",
   "version": "3.9.7"
  }
 },
 "nbformat": 4,
 "nbformat_minor": 5
}
